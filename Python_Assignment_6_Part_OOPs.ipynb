{
 "cells": [
  {
   "cell_type": "code",
   "execution_count": 6,
   "id": "701dcb68-ef17-4f57-90d2-c306887d0893",
   "metadata": {},
   "outputs": [
    {
     "name": "stdout",
     "output_type": "stream",
     "text": [
      "Course Code: CS101, Name: Introduction to Computer Science, Credit Hours: 3, Required for Major: True\n",
      "Course Code: HIST201, Name: World History, Credit Hours: 2, Elective Type: Liberal Arts\n"
     ]
    }
   ],
   "source": [
    "# Question 1: Build a program to manage a university's course catalog.\n",
    "\n",
    "class Course:\n",
    "    def __init__(self, course_code, course_name, credit_hours):\n",
    "        self.course_code = course_code\n",
    "        self.course_name = course_name\n",
    "        self.credit_hours = credit_hours\n",
    "\n",
    "    def display_info(self):\n",
    "        return f\"Course Code: {self.course_code}, Name: {self.course_name}, Credit Hours: {self.credit_hours}\"\n",
    "        \n",
    "class CoreCourse(Course):\n",
    "    def __init__(self, course_code, course_name, credit_hours, required_for_major):\n",
    "        super().__init__(course_code, course_name, credit_hours)\n",
    "        self.required_for_major = required_for_major\n",
    "\n",
    "    def display_info(self):\n",
    "        return super().display_info() + f\", Required for Major: {self.required_for_major}\"\n",
    "\n",
    "class ElectiveCourse(Course):\n",
    "    def __init__(self, course_code, course_name, credit_hours, elective_type):\n",
    "        super().__init__(course_code, course_name, credit_hours)\n",
    "        self.elective_type = elective_type\n",
    "\n",
    "    def display_info(self):\n",
    "        return super().display_info() + f\", Elective Type: {self.elective_type}\"\n",
    "\n",
    "core = CoreCourse(\"CS101\", \"Introduction to Computer Science\", 3, True)\n",
    "elective = ElectiveCourse(\"HIST201\", \"World History\", 2, \"Liberal Arts\")\n",
    "print(core.display_info())\n",
    "print(elective.display_info())\n"
   ]
  },
  {
   "cell_type": "code",
   "execution_count": 8,
   "id": "e01c8666-437c-46c1-a62e-79191c6accc7",
   "metadata": {},
   "outputs": [
    {
     "name": "stdout",
     "output_type": "stream",
     "text": [
      "Employee Name: John Doe\n",
      "Employee Salary: 50000\n"
     ]
    }
   ],
   "source": [
    "# Question 2\n",
    "\n",
    "class Employee:\n",
    "    def __init__(self, name, salary):\n",
    "        self.name = name\n",
    "        self.salary = salary\n",
    "    \n",
    "    def get_name(self):\n",
    "        return self.name\n",
    "    \n",
    "    def get_salary(self):\n",
    "        return self.salary\n",
    "\n",
    "if __name__ == \"__main__\":\n",
    "    emp1 = Employee(\"John Doe\", 50000)\n",
    "    print(\"Employee Name:\", emp1.get_name())\n",
    "    print(\"Employee Salary:\", emp1.get_salary())"
   ]
  },
  {
   "cell_type": "code",
   "execution_count": null,
   "id": "425dbae3-ae3c-47a9-8d47-e35bb1dca628",
   "metadata": {},
   "outputs": [],
   "source": []
  }
 ],
 "metadata": {
  "kernelspec": {
   "display_name": "Python [conda env:base] *",
   "language": "python",
   "name": "conda-base-py"
  },
  "language_info": {
   "codemirror_mode": {
    "name": "ipython",
    "version": 3
   },
   "file_extension": ".py",
   "mimetype": "text/x-python",
   "name": "python",
   "nbconvert_exporter": "python",
   "pygments_lexer": "ipython3",
   "version": "3.12.7"
  }
 },
 "nbformat": 4,
 "nbformat_minor": 5
}
