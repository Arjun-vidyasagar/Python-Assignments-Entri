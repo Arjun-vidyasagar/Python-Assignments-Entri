{
 "cells": [
  {
   "cell_type": "code",
   "execution_count": 2,
   "id": "ef96415e-07ab-4d18-a3db-33236b6834b8",
   "metadata": {},
   "outputs": [],
   "source": [
    "import numpy as np\n",
    "import pandas as pd"
   ]
  },
  {
   "cell_type": "code",
   "execution_count": 18,
   "id": "d31e743f-3759-4e0e-ac11-58358d8b507b",
   "metadata": {},
   "outputs": [
    {
     "name": "stdout",
     "output_type": "stream",
     "text": [
      "Reshaped Array\n",
      " [[ 1  2  3  4  5]\n",
      " [ 6  7  8  9 10]]\n"
     ]
    }
   ],
   "source": [
    "# Exercise 1: Create a numpy array containing the numbers from 1 to 10 and reshape it to a 2x5 matrix\n",
    "arr1 = np.arange(1, 11).reshape(2, 5)\n",
    "print(\"Reshaped Array\\n\", arr1)"
   ]
  },
  {
   "cell_type": "code",
   "execution_count": 20,
   "id": "0df7c5bc-7c23-4ff2-ad97-599f2c2aa4b6",
   "metadata": {},
   "outputs": [
    {
     "name": "stdout",
     "output_type": "stream",
     "text": [
      "\n",
      "Extracted Elements [ 6  7  8  9 10 11 12 13 14 15 16]\n"
     ]
    }
   ],
   "source": [
    "# Exercise 2: Create a numpy array containing numbers from 1 to 20, extract elements between 5th and 15th index\n",
    "arr2 = np.arange(1, 21)\n",
    "extracted_elements = arr2[5:16]\n",
    "print(\"\\nExtracted Elements\", extracted_elements)"
   ]
  },
  {
   "cell_type": "code",
   "execution_count": 26,
   "id": "ab2439c3-a2e5-45a1-be1b-e31b148f95dd",
   "metadata": {},
   "outputs": [
    {
     "name": "stdout",
     "output_type": "stream",
     "text": [
      "Pandas Series\n",
      " apples     3\n",
      "bananas    2\n",
      "oranges    1\n",
      "pears      4\n",
      "dtype: int64\n"
     ]
    }
   ],
   "source": [
    "# Exercise 3: Create a Pandas series and add a new item\n",
    "fruit_series = pd.Series({'apples': 3, 'bananas': 2, 'oranges': 1})\n",
    "fruit_series['pears'] = 4\n",
    "print(\"Pandas Series\\n\",fruit_series)"
   ]
  },
  {
   "cell_type": "code",
   "execution_count": 32,
   "id": "a05a6cdb-7caa-4e20-a714-fada6bd3e691",
   "metadata": {},
   "outputs": [
    {
     "name": "stdout",
     "output_type": "stream",
     "text": [
      "DataFrame:\n",
      "       name  age  gender\n",
      "0    Alice   25  Female\n",
      "1      Bob   30    Male\n",
      "2  Charlie   22    Male\n",
      "3    David   35    Male\n",
      "4      Eve   40  Female\n",
      "5    Frank   28    Male\n",
      "6    Grace   32  Female\n",
      "7   Hannah   26  Female\n",
      "8      Ian   38    Male\n",
      "9     Jack   29    Male\n"
     ]
    }
   ],
   "source": [
    "# Exercise 4: Create a DataFrame with name, age, and gender columns\n",
    "data = {\n",
    "    'name': [\"Alice\", \"Bob\", \"Charlie\", \"David\", \"Eve\", \"Frank\", \"Grace\", \"Hannah\", \"Ian\", \"Jack\"],\n",
    "    'age': [25, 30, 22, 35, 40, 28, 32, 26, 38, 29],\n",
    "    'gender': [\"Female\", \"Male\", \"Male\", \"Male\", \"Female\", \"Male\", \"Female\", \"Female\", \"Male\", \"Male\"]\n",
    "}\n",
    "df = pd.DataFrame(data)\n",
    "print(\"DataFrame:\\n\", df)"
   ]
  },
  {
   "cell_type": "code",
   "execution_count": 38,
   "id": "58194a2b-ee06-44a7-ac26-504c436a7b10",
   "metadata": {},
   "outputs": [
    {
     "name": "stdout",
     "output_type": "stream",
     "text": [
      "DataFrame with Occupation Column:\n",
      "       name  age  gender  occupation\n",
      "0    Alice   25  Female  Programmer\n",
      "1      Bob   30    Male     Manager\n",
      "2  Charlie   22    Male     Analyst\n",
      "3    David   35    Male  Programmer\n",
      "4      Eve   40  Female     Manager\n",
      "5    Frank   28    Male     Analyst\n",
      "6    Grace   32  Female  Programmer\n",
      "7   Hannah   26  Female     Manager\n",
      "8      Ian   38    Male     Analyst\n",
      "9     Jack   29    Male  Programmer\n"
     ]
    }
   ],
   "source": [
    "# Exercise 5: Add a new column 'occupation'\n",
    "df['occupation'] = [\"Programmer\", \"Manager\", \"Analyst\", \"Programmer\", \"Manager\", \"Analyst\", \"Programmer\", \"Manager\", \"Analyst\", \"Programmer\"]\n",
    "print(\"DataFrame with Occupation Column:\\n\", df)\n"
   ]
  },
  {
   "cell_type": "code",
   "execution_count": 42,
   "id": "0fbc7ec1-7ffe-4c70-9201-99652bbdfbed",
   "metadata": {},
   "outputs": [
    {
     "name": "stdout",
     "output_type": "stream",
     "text": [
      "Filtered DataFrame (age >= 30)\n",
      "     name  age  gender  occupation\n",
      "1    Bob   30    Male     Manager\n",
      "3  David   35    Male  Programmer\n",
      "4    Eve   40  Female     Manager\n",
      "6  Grace   32  Female  Programmer\n",
      "8    Ian   38    Male     Analyst\n"
     ]
    }
   ],
   "source": [
    "# Exercise 6: Select rows where age >= 30\n",
    "filtered_df = df[df['age'] >= 30]\n",
    "print(\"Filtered DataFrame (age >= 30)\\n\", filtered_df)"
   ]
  },
  {
   "cell_type": "code",
   "execution_count": 44,
   "id": "18baf1de-86c1-462b-a36d-fe6466fde3b7",
   "metadata": {},
   "outputs": [
    {
     "name": "stdout",
     "output_type": "stream",
     "text": [
      "Read CSV File\n",
      "       name  age  gender  occupation\n",
      "0    Alice   25  Female  Programmer\n",
      "1      Bob   30    Male     Manager\n",
      "2  Charlie   22    Male     Analyst\n",
      "3    David   35    Male  Programmer\n",
      "4      Eve   40  Female     Manager\n",
      "5    Frank   28    Male     Analyst\n",
      "6    Grace   32  Female  Programmer\n",
      "7   Hannah   26  Female     Manager\n",
      "8      Ian   38    Male     Analyst\n",
      "9     Jack   29    Male  Programmer\n"
     ]
    }
   ],
   "source": [
    "# Exercise 7: Convert DataFrame to CSV and read it back\n",
    "df.to_csv('dataframe.csv', index=False)\n",
    "df_read = pd.read_csv('dataframe.csv')\n",
    "print(\"Read CSV File\\n\", df_read)"
   ]
  },
  {
   "cell_type": "code",
   "execution_count": null,
   "id": "22697505-7f32-4f46-9579-58d616c1691b",
   "metadata": {},
   "outputs": [],
   "source": []
  }
 ],
 "metadata": {
  "kernelspec": {
   "display_name": "Python [conda env:base] *",
   "language": "python",
   "name": "conda-base-py"
  },
  "language_info": {
   "codemirror_mode": {
    "name": "ipython",
    "version": 3
   },
   "file_extension": ".py",
   "mimetype": "text/x-python",
   "name": "python",
   "nbconvert_exporter": "python",
   "pygments_lexer": "ipython3",
   "version": "3.12.7"
  }
 },
 "nbformat": 4,
 "nbformat_minor": 5
}
