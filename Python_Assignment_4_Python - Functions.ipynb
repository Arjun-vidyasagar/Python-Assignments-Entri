{
 "cells": [
  {
   "cell_type": "markdown",
   "id": "fa2fa892-38db-415f-9502-27fc1554dd2e",
   "metadata": {},
   "source": [
    "## What does the len() function do in Python? Write a code example using len() to find the length of a list."
   ]
  },
  {
   "cell_type": "code",
   "execution_count": 2,
   "id": "3a03bf53-6235-4321-a9b1-dfc5566f7340",
   "metadata": {},
   "outputs": [
    {
     "name": "stdout",
     "output_type": "stream",
     "text": [
      "Length of the list: 5\n"
     ]
    }
   ],
   "source": [
    "# The len() function in Python is used to determine the number of items in an iterable, such as a list, tuple, string, or dictionary. \n",
    "# It returns an integer representing the number of elements.\n",
    "# code to find the length of a list:\n",
    "\n",
    "my_list = [10, 20, 30, 40, 50]\n",
    "print(\"Length of the list:\", len(my_list))"
   ]
  },
  {
   "cell_type": "markdown",
   "id": "98c12ae1-6795-46d9-93cb-ffa83faadf13",
   "metadata": {},
   "source": [
    "## Write a Python function greet(name) that takes a person's name as input and prints \"Hello, [name]!\"."
   ]
  },
  {
   "cell_type": "code",
   "execution_count": 9,
   "id": "7c1cd724-2abf-484e-8f15-c0e0c40a1fdf",
   "metadata": {},
   "outputs": [
    {
     "name": "stdin",
     "output_type": "stream",
     "text": [
      "Enter your name:  Arjun\n"
     ]
    },
    {
     "name": "stdout",
     "output_type": "stream",
     "text": [
      "Hello, Arjun!\n"
     ]
    }
   ],
   "source": [
    "def greet(name):\n",
    "    print(f\"Hello, {name}!\")\n",
    "\n",
    "name = input(\"Enter your name: \")\n",
    "greet(name)  "
   ]
  },
  {
   "cell_type": "markdown",
   "id": "145ebd31-8e4b-4582-ad9f-591dd4e0ea91",
   "metadata": {},
   "source": [
    "## Write a Python function find_maximum(numbers) that takes a list of integers and returns the maximum value without using the built-in max() function. Use a loop to iterate through the list and compare values."
   ]
  },
  {
   "cell_type": "code",
   "execution_count": 14,
   "id": "504da623-6c2c-4c03-89a4-ffe4329b9d25",
   "metadata": {},
   "outputs": [
    {
     "name": "stdout",
     "output_type": "stream",
     "text": [
      "Maximum value: 13\n"
     ]
    }
   ],
   "source": [
    "def find_maximum(numbers):\n",
    "    if not numbers:\n",
    "        return None  \n",
    "    max_value = numbers[0]  \n",
    "    for num in numbers[1:]:  \n",
    "        if num > max_value:\n",
    "            max_value = num  \n",
    "    return max_value\n",
    "\n",
    "print(\"Maximum value:\", find_maximum([4, 7, 1, 9, 13]))  "
   ]
  },
  {
   "cell_type": "markdown",
   "id": "e84f720c-9b5f-4b4a-99eb-0853f1f0d442",
   "metadata": {},
   "source": [
    "## Explain the difference between local and global variables in a Python function. Write a program where a global variable and a local variable have the same name and show how Python differentiates between them."
   ]
  },
  {
   "cell_type": "markdown",
   "id": "f69694d5-0f3d-462f-a30f-2ad1f5c2ea79",
   "metadata": {},
   "source": [
    "In Python, a global variable is defined outside of any function and is accessible throughout the entire program, whereas a local variable is defined inside a function and is only accessible only within that function. If both a local and global variable have the same name, Python will prioritize the local variable within the function's scope. "
   ]
  },
  {
   "cell_type": "code",
   "execution_count": 19,
   "id": "a5fc64e6-bd12-43dd-91aa-1aecf4ca1a3d",
   "metadata": {},
   "outputs": [
    {
     "name": "stdout",
     "output_type": "stream",
     "text": [
      "Inside function, x: 51\n",
      "Outside function, x: 10\n"
     ]
    }
   ],
   "source": [
    "x = 10  # Global variable\n",
    "def my_function():\n",
    "    x = 51  # Local variable\n",
    "    print(\"Inside function, x:\", x)\n",
    "\n",
    "my_function()\n",
    "print(\"Outside function, x:\", x)"
   ]
  },
  {
   "cell_type": "markdown",
   "id": "f229bce5-9541-420e-a246-ac8652413ec9",
   "metadata": {},
   "source": [
    "## Create a function calculate_area(length, width=5) that calculates the area of a rectangle. If only the length is provided, the function should assume the width is 5. Show how the function behaves when called with and without the width argument."
   ]
  },
  {
   "cell_type": "code",
   "execution_count": 22,
   "id": "d3d642fd-5421-4f2e-a7ad-4e1d2c4b3075",
   "metadata": {},
   "outputs": [
    {
     "name": "stdout",
     "output_type": "stream",
     "text": [
      "Area with both length and width: 80\n",
      "Area with default width (5): 50\n"
     ]
    }
   ],
   "source": [
    "def calculate_area(length, width=5):\n",
    "    return length * width\n",
    "\n",
    "# Calling the function with both length and width\n",
    "area_with_both = calculate_area(10, 8)\n",
    "print(\"Area with both length and width:\", area_with_both)\n",
    "\n",
    "# Calling the function with only length (width defaults to 5)\n",
    "area_with_default_width = calculate_area(10)\n",
    "print(\"Area with default width (5):\", area_with_default_width)\n"
   ]
  },
  {
   "cell_type": "code",
   "execution_count": null,
   "id": "12a754c0-1f90-4a76-b57c-b7c045112ec7",
   "metadata": {},
   "outputs": [],
   "source": []
  }
 ],
 "metadata": {
  "kernelspec": {
   "display_name": "Python [conda env:base] *",
   "language": "python",
   "name": "conda-base-py"
  },
  "language_info": {
   "codemirror_mode": {
    "name": "ipython",
    "version": 3
   },
   "file_extension": ".py",
   "mimetype": "text/x-python",
   "name": "python",
   "nbconvert_exporter": "python",
   "pygments_lexer": "ipython3",
   "version": "3.12.7"
  }
 },
 "nbformat": 4,
 "nbformat_minor": 5
}
