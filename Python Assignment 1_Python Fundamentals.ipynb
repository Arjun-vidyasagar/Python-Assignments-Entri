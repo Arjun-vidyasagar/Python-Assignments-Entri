{
 "cells": [
  {
   "cell_type": "markdown",
   "id": "3ef4f730-90df-4f84-ad15-8643dc11929f",
   "metadata": {},
   "source": [
    "## Exercise 1 Write Python code that prints your name, student number and email address."
   ]
  },
  {
   "cell_type": "code",
   "execution_count": 6,
   "id": "cf32da9b-95b1-4523-9de1-db5ca66645f9",
   "metadata": {},
   "outputs": [],
   "source": [
    "Name = 'Arjun Vidyasagar'\n",
    "Student_Number = 'STU001'\n",
    "email_address = 'arjunvidyasagar@yahoo.com'"
   ]
  },
  {
   "cell_type": "code",
   "execution_count": 12,
   "id": "ffa1e10f-bba6-4c3a-97a3-a7bfa4cb2d91",
   "metadata": {},
   "outputs": [
    {
     "name": "stdout",
     "output_type": "stream",
     "text": [
      "Arjun Vidyasagar\n",
      "STU001\n",
      "arjunvidyasagar@yahoo.com\n"
     ]
    }
   ],
   "source": [
    "print (Name)\n",
    "print (Student_Number)\n",
    "print (email_address)"
   ]
  },
  {
   "cell_type": "markdown",
   "id": "ba56905b-03c4-4b5b-b6f1-951498141080",
   "metadata": {},
   "source": [
    "## Exercise 2 Write Python code that prints your name, student number and email address using escape sequences."
   ]
  },
  {
   "cell_type": "code",
   "execution_count": 19,
   "id": "8eb90e3e-980a-4bcd-be1a-d55f15132a9b",
   "metadata": {},
   "outputs": [
    {
     "name": "stdout",
     "output_type": "stream",
     "text": [
      "Arjun Vidyasagar\n",
      "STU001\n",
      "arjunvidyasagar@yahoo.com\n"
     ]
    }
   ],
   "source": [
    "print('Arjun Vidyasagar\\nSTU001\\narjunvidyasagar@yahoo.com')"
   ]
  },
  {
   "cell_type": "markdown",
   "id": "694c8ce7-3b9c-458c-b54c-e698de1ede95",
   "metadata": {},
   "source": [
    "## Exercise 3 Write Python code that add, subtract, multiply and divide the two numbers. You can use the two numbers 14 and 7. An example run of the program: 14 + 7 = 21 14 * 7 = 98 14 – 7 = 7 14 / 7 = 2"
   ]
  },
  {
   "cell_type": "code",
   "execution_count": 22,
   "id": "54d93e99-17e1-4468-ae01-01af1ffe62c7",
   "metadata": {},
   "outputs": [],
   "source": [
    "a=14\n",
    "b=7"
   ]
  },
  {
   "cell_type": "code",
   "execution_count": 26,
   "id": "1b6cba48-a994-4bb3-8f63-db3bcc3a1134",
   "metadata": {},
   "outputs": [
    {
     "name": "stdout",
     "output_type": "stream",
     "text": [
      "21\n"
     ]
    }
   ],
   "source": [
    "sum= a+b\n",
    "print (sum)"
   ]
  },
  {
   "cell_type": "code",
   "execution_count": 28,
   "id": "4bf9cb4c-9a8e-47ed-9788-45cf96de533a",
   "metadata": {},
   "outputs": [
    {
     "name": "stdout",
     "output_type": "stream",
     "text": [
      "7\n"
     ]
    }
   ],
   "source": [
    "difference = a-b\n",
    "print (difference)"
   ]
  },
  {
   "cell_type": "code",
   "execution_count": 30,
   "id": "f65e7da3-076a-41e2-b936-f1cf4676c988",
   "metadata": {},
   "outputs": [
    {
     "name": "stdout",
     "output_type": "stream",
     "text": [
      "98\n"
     ]
    }
   ],
   "source": [
    "product=a*b\n",
    "print(product)"
   ]
  },
  {
   "cell_type": "code",
   "execution_count": 32,
   "id": "3b72ce27-37f1-4586-aee1-2ceaa260e300",
   "metadata": {},
   "outputs": [
    {
     "name": "stdout",
     "output_type": "stream",
     "text": [
      "2.0\n"
     ]
    }
   ],
   "source": [
    "Quotient = a/b\n",
    "print (Quotient)"
   ]
  },
  {
   "cell_type": "markdown",
   "id": "b896847f-7e84-40c3-87b4-8ecbacc75d78",
   "metadata": {},
   "source": [
    "## Exercise 4 Write Python code that displays the numbers from 1 to 5 as steps."
   ]
  },
  {
   "cell_type": "code",
   "execution_count": 37,
   "id": "868eab16-0726-4215-af3c-2c314bee898f",
   "metadata": {},
   "outputs": [
    {
     "name": "stdout",
     "output_type": "stream",
     "text": [
      "1\n",
      "2\n",
      "3\n",
      "4\n",
      "5\n"
     ]
    }
   ],
   "source": [
    "print ('1\\n2\\n3\\n4\\n5')"
   ]
  },
  {
   "cell_type": "markdown",
   "id": "336545a8-b47f-4484-8a6d-096d00ff54be",
   "metadata": {},
   "source": [
    "## Exercise 5 Write Python code that outputs the following sentence (including the quotation marks and line break) to the screen: An example runs of the program: \"SDK\" stands for \"Software Development Kit\", whereas \"IDE\" stands for \"Integrated Development Environment\"."
   ]
  },
  {
   "cell_type": "code",
   "execution_count": 42,
   "id": "c7fc5fb0-fc94-4937-b3ad-f3cfd0863a44",
   "metadata": {},
   "outputs": [
    {
     "name": "stdout",
     "output_type": "stream",
     "text": [
      "\"\"SDK\" stands for \"Software Development Kit\", whereas \"IDE\" stands for \"Integrated Development Environment\"\n"
     ]
    }
   ],
   "source": [
    "print('\"\"SDK\" stands for \"Software Development Kit\", whereas \"IDE\" stands for \"Integrated Development Environment\"')"
   ]
  },
  {
   "cell_type": "markdown",
   "id": "0d88b2d4-8d26-4bc6-8cd2-614b79efb2de",
   "metadata": {},
   "source": [
    "##  Exercise 6 Practice and check the output print(\"python is an \\\"awesome\\\" language.\") print(\"python\\n\\t2023\") print('I\\'m from Entri.\\b') print(\"\\65\") print(\"\\x65\") print(\"Entri\", \"2023\", sep=\"\\n\") print(\"Entri\", \"2023\", sep=\"\\b\") print(\"Entri\", \"2023\", sep=\"*\", end=\"\\b\\b\\b\\b\")"
   ]
  },
  {
   "cell_type": "code",
   "execution_count": 50,
   "id": "71cf4022-90ff-409d-8760-9d26a8345e69",
   "metadata": {},
   "outputs": [
    {
     "name": "stdout",
     "output_type": "stream",
     "text": [
      "\"python is an \"awesome\" language.\"\n"
     ]
    }
   ],
   "source": [
    "print('\"python is an \"awesome\" language.\"')"
   ]
  },
  {
   "cell_type": "code",
   "execution_count": 52,
   "id": "66ece584-e32f-4d9d-b116-41b17d564895",
   "metadata": {},
   "outputs": [
    {
     "name": "stdout",
     "output_type": "stream",
     "text": [
      "python\n",
      "\t2023\n"
     ]
    }
   ],
   "source": [
    "print(\"python\\n\\t2023\")"
   ]
  },
  {
   "cell_type": "code",
   "execution_count": 70,
   "id": "55b10b21-bcbd-488d-969d-b4154e9ce5fa",
   "metadata": {},
   "outputs": [
    {
     "name": "stdout",
     "output_type": "stream",
     "text": [
      "I'm from Entri\n"
     ]
    }
   ],
   "source": [
    "print('I\\'m from Entri.\\b')"
   ]
  },
  {
   "cell_type": "code",
   "execution_count": 74,
   "id": "7b447260-59d9-4883-8cf1-059bb7bcf811",
   "metadata": {},
   "outputs": [
    {
     "name": "stdout",
     "output_type": "stream",
     "text": [
      "5\n",
      "e\n"
     ]
    }
   ],
   "source": [
    "print(\"\\65\") \n",
    "print(\"\\x65\")"
   ]
  },
  {
   "cell_type": "code",
   "execution_count": 76,
   "id": "2807c5d3-1168-4a6f-99e7-00e2fb62d84e",
   "metadata": {},
   "outputs": [
    {
     "name": "stdout",
     "output_type": "stream",
     "text": [
      "Entri\n",
      "2023\n"
     ]
    }
   ],
   "source": [
    "print(\"Entri\", \"2023\", sep=\"\\n\")"
   ]
  },
  {
   "cell_type": "code",
   "execution_count": 78,
   "id": "d3c28a76-2ed0-43f8-9684-0fe1ec839eaf",
   "metadata": {},
   "outputs": [
    {
     "name": "stdout",
     "output_type": "stream",
     "text": [
      "Entr2023\n"
     ]
    }
   ],
   "source": [
    "print(\"Entri\", \"2023\", sep=\"\\b\")"
   ]
  },
  {
   "cell_type": "code",
   "execution_count": 80,
   "id": "b40307f4-05d4-4728-9311-d8ff698d7151",
   "metadata": {},
   "outputs": [
    {
     "name": "stdout",
     "output_type": "stream",
     "text": [
      "Entri*20"
     ]
    }
   ],
   "source": [
    "print(\"Entri\", \"2023\", sep=\"*\", end=\"\\b\\b\\b\\b\")"
   ]
  },
  {
   "cell_type": "markdown",
   "id": "ddc4a1a2-5704-49ca-b253-396fdaa43859",
   "metadata": {},
   "source": [
    "## Exercise 7 Define the variables below. Print the types of each variable. What is the sum of your variables? (Hint: use a type conversion function.) What datatype is the sum? num=23 textnum=\"57\" decimal=98.3\n"
   ]
  },
  {
   "cell_type": "code",
   "execution_count": 83,
   "id": "dcb72c88-505e-4852-a81b-2f2d7aa6a199",
   "metadata": {},
   "outputs": [],
   "source": [
    "num = 23\n",
    "textnum = \"57\"\n",
    "decimal = 98.3\n"
   ]
  },
  {
   "cell_type": "code",
   "execution_count": 85,
   "id": "45de75c5-fe13-4a35-b23b-810b936dd22f",
   "metadata": {},
   "outputs": [
    {
     "name": "stdout",
     "output_type": "stream",
     "text": [
      "<class 'int'>\n",
      "<class 'str'>\n",
      "<class 'float'>\n"
     ]
    }
   ],
   "source": [
    "print(type(num))\n",
    "print(type(textnum))\n",
    "print(type(decimal))"
   ]
  },
  {
   "cell_type": "code",
   "execution_count": 89,
   "id": "2f8fce9f-c884-49ee-9f94-1657f4cab71a",
   "metadata": {},
   "outputs": [],
   "source": [
    "sum= num+int(textnum)+decimal"
   ]
  },
  {
   "cell_type": "code",
   "execution_count": 91,
   "id": "fb1a2d69-02b9-4ac1-b40a-b369ab5825c6",
   "metadata": {},
   "outputs": [
    {
     "name": "stdout",
     "output_type": "stream",
     "text": [
      "<class 'float'>\n"
     ]
    }
   ],
   "source": [
    "print(type(sum))"
   ]
  },
  {
   "cell_type": "markdown",
   "id": "d1c7c991-88ac-4343-b282-7774a7b8484d",
   "metadata": {},
   "source": [
    "## Exercise 8 calculate the number of minutes in a year using variables for each unit of time. print a statement that describes what your code does also. Create three variables to store no of days in a year, minute in a hour, hours in a day, then calculate the total minutes in a year and print the values. (hint) total number of minutes in an year =No.of days in an year * Hours in a day * Minutes in an hour\n"
   ]
  },
  {
   "cell_type": "code",
   "execution_count": 96,
   "id": "f60be1a1-beba-474b-9d5b-90fdfb753ab0",
   "metadata": {},
   "outputs": [],
   "source": [
    "days_in_year = 365\n",
    "minutes_in_hour = 60\n",
    "hours_in_day = 24"
   ]
  },
  {
   "cell_type": "code",
   "execution_count": 98,
   "id": "9c23ab6d-b214-49ac-bab7-49beef0da63f",
   "metadata": {},
   "outputs": [],
   "source": [
    "Total_Minutes_In_an_Year = days_in_year*minutes_in_hour*hours_in_day"
   ]
  },
  {
   "cell_type": "code",
   "execution_count": 100,
   "id": "db186d33-a713-4d3b-a941-42e406b82d19",
   "metadata": {},
   "outputs": [
    {
     "name": "stdout",
     "output_type": "stream",
     "text": [
      "525600\n"
     ]
    }
   ],
   "source": [
    "print(Total_Minutes_In_an_Year)"
   ]
  },
  {
   "cell_type": "code",
   "execution_count": 102,
   "id": "e8cd4169-ec5b-4499-a9c7-ff8ae68e8e28",
   "metadata": {},
   "outputs": [
    {
     "name": "stdout",
     "output_type": "stream",
     "text": [
      "This program calculates the total number of minutes in a year.\n",
      "The total number of minutes in an year is 525600\n"
     ]
    }
   ],
   "source": [
    "print(\"This program calculates the total number of minutes in a year.\")\n",
    "print (\"The total number of minutes in an year is\",Total_Minutes_In_an_Year)"
   ]
  },
  {
   "cell_type": "markdown",
   "id": "63d1a2c2-1e6c-4a7c-b3e8-104a59f24ce0",
   "metadata": {},
   "source": [
    "## Exercise 9 Write Python code that asks the user to enter his/her name and then output/prints his/her name with a greeting. An example runs of the program: Please enter you name: Tony Hi Tony, welcome to Python programming :)\n"
   ]
  },
  {
   "cell_type": "code",
   "execution_count": 105,
   "id": "2a0a192b-982c-40c6-b049-1c340e5a619b",
   "metadata": {},
   "outputs": [
    {
     "name": "stdin",
     "output_type": "stream",
     "text": [
      "Please enter your name:  Arjun\n"
     ]
    },
    {
     "name": "stdout",
     "output_type": "stream",
     "text": [
      "Hi Arjun, welcome to Python programming :)\n"
     ]
    }
   ],
   "source": [
    "name = input(\"Please enter your name: \") \n",
    "print(\"Hi\", name + \", welcome to Python programming :)\")  \n"
   ]
  },
  {
   "cell_type": "markdown",
   "id": "6c6e969a-072c-4638-a502-a4856b9f4047",
   "metadata": {},
   "source": [
    "## Exercise 10 Name your file: PoundsToDollars.py Write a program that asks the user to enter an amount in pounds (£) and the program calculates and converts an amount in dollar ($) An example runs of the program: Please enter amount in pounds: XXX \n",
    "\n"
   ]
  },
  {
   "cell_type": "code",
   "execution_count": 132,
   "id": "acf7c2bb-16dc-495c-9b60-e0dcf7af336d",
   "metadata": {},
   "outputs": [
    {
     "name": "stdin",
     "output_type": "stream",
     "text": [
      "Please enter the amount in Pounds 09\n"
     ]
    },
    {
     "name": "stdout",
     "output_type": "stream",
     "text": [
      "£ 9.0 are $ 11.25\n"
     ]
    }
   ],
   "source": [
    "pounds= float(input(\"Please enter the amount in Pounds\"))\n",
    "exchange_rate = 1.25\n",
    "dollars = pounds*exchange_rate\n",
    "print('£',pounds, 'are', '$',dollars)"
   ]
  }
 ],
 "metadata": {
  "kernelspec": {
   "display_name": "Python [conda env:base] *",
   "language": "python",
   "name": "conda-base-py"
  },
  "language_info": {
   "codemirror_mode": {
    "name": "ipython",
    "version": 3
   },
   "file_extension": ".py",
   "mimetype": "text/x-python",
   "name": "python",
   "nbconvert_exporter": "python",
   "pygments_lexer": "ipython3",
   "version": "3.12.7"
  }
 },
 "nbformat": 4,
 "nbformat_minor": 5
}
