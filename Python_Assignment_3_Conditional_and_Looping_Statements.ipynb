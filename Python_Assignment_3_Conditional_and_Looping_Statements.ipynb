{
  "nbformat": 4,
  "nbformat_minor": 0,
  "metadata": {
    "colab": {
      "provenance": []
    },
    "kernelspec": {
      "name": "python3",
      "display_name": "Python 3"
    },
    "language_info": {
      "name": "python"
    }
  },
  "cells": [
    {
      "cell_type": "markdown",
      "source": [
        "# Exercise 1\n",
        "## Write a program that reads an integer value between 1 and 12 from the user and prints output the corresponding month of the year. An example run of the program (numbers in bold are typed in by the user) Enter the month: 3 Month 3 is March\n"
      ],
      "metadata": {
        "id": "SkQChZZRQpfL"
      }
    },
    {
      "cell_type": "code",
      "execution_count": 2,
      "metadata": {
        "colab": {
          "base_uri": "https://localhost:8080/"
        },
        "id": "_q3aNvNPQZQq",
        "outputId": "bcb3b1ce-3ca4-4c17-9509-4c6bb12d5911"
      },
      "outputs": [
        {
          "output_type": "stream",
          "name": "stdout",
          "text": [
            "Enter the month: 13\n",
            "Invalid input! Please enter a number between 1 and 12.\n"
          ]
        }
      ],
      "source": [
        "months = {\n",
        "    1: \"January\", 2: \"February\", 3: \"March\", 4: \"April\",\n",
        "    5: \"May\", 6: \"June\", 7: \"July\", 8: \"August\",\n",
        "    9: \"September\", 10: \"October\", 11: \"November\", 12: \"December\"\n",
        "}\n",
        "\n",
        "month_num = int(input(\"Enter the month: \"))\n",
        "\n",
        "if 1 <= month_num <= 12:\n",
        "    print(f\"Month {month_num} is {months[month_num]}\")\n",
        "else:\n",
        "    print(\"Invalid input! Please enter a number between 1 and 12.\")"
      ]
    },
    {
      "cell_type": "markdown",
      "source": [
        "# Exercise 2\n",
        "## A certain cinema currently sells tickets for a full price of 6 pounds, but always sells tickets for half price to people who are less than 16 years old, and for a third of the price for people who are 60 years old or more. An example run of the program (numbers in bold are typed in by the user) Enter your age: 63 Your ticket costs £2.00"
      ],
      "metadata": {
        "id": "bUk0Qk4ISYVL"
      }
    },
    {
      "cell_type": "code",
      "source": [
        "full_price = 6.00\n",
        "\n",
        "age = int(input(\"Enter your age: \"))\n",
        "\n",
        "if age < 16:\n",
        "    ticket_price = full_price / 2\n",
        "elif age >= 60:\n",
        "    ticket_price = full_price / 3\n",
        "else:\n",
        "    ticket_price = full_price\n",
        "\n",
        "print(f\"Your ticket costs £{ticket_price:.2f}\")\n"
      ],
      "metadata": {
        "colab": {
          "base_uri": "https://localhost:8080/"
        },
        "id": "TCfPPe1WSea1",
        "outputId": "29e77b20-4435-4438-a572-4276933ad779"
      },
      "execution_count": 4,
      "outputs": [
        {
          "output_type": "stream",
          "name": "stdout",
          "text": [
            "Enter your age: 45\n",
            "Your ticket costs £6.00\n"
          ]
        }
      ]
    },
    {
      "cell_type": "markdown",
      "source": [
        "# Exercise 3\n",
        "## Write a program to calculate your BMI and give weight status. Body Mass Index (BMI) is an internationally used measurement to check if you are a healthy weight for your height.The metric BMI formula accepts weight in kilograms and height in meters: BMI= weight(kg)/height2(m2) BMI Weight Status Categories table BMI range - kg/m2   Category Below 18.5                    Underweight 18.5 -24.9         Normal 25 - 29.9          Overweight 30 & Above     Obese An example run of the program (numbers in bold are typed in by the user) Enter your weight in (kg): 75 Enter your height in (m): 1.70 Your BMI is: 25.95 You are in the “overweight” range.\n",
        ""
      ],
      "metadata": {
        "id": "N3GwGu5jTG5J"
      }
    },
    {
      "cell_type": "code",
      "source": [
        "weight = float(input(\"Enter your weight in (kg): \"))\n",
        "height = float(input(\"Enter your height in (m): \"))\n",
        "\n",
        "bmi = weight / (height ** 2)\n",
        "\n",
        "if bmi < 18.5:\n",
        "    status = \"Underweight\"\n",
        "elif 18.5 <= bmi < 25:\n",
        "    status = \"Normal\"\n",
        "elif 25 <= bmi < 30:\n",
        "    status = \"Overweight\"\n",
        "else:\n",
        "    status = \"Obese\"\n",
        "\n",
        "print(f\"Your BMI is: {bmi:.2f}\")\n",
        "print(f\"You are in the “{status}” range.\")\n"
      ],
      "metadata": {
        "colab": {
          "base_uri": "https://localhost:8080/"
        },
        "id": "k7b7Zp1FSvTP",
        "outputId": "211c71b1-40c6-44bd-eb95-f135dd4eace3"
      },
      "execution_count": 9,
      "outputs": [
        {
          "output_type": "stream",
          "name": "stdout",
          "text": [
            "Enter your weight in (kg): 73\n",
            "Enter your height in (m): 1.73\n",
            "Your BMI is: 24.39\n",
            "You are in the “Normal” range.\n"
          ]
        }
      ]
    },
    {
      "cell_type": "markdown",
      "source": [
        "# Exercise 4\n",
        "## Write a Python program to receive 3 numbers from the user and print the greatest among them\n"
      ],
      "metadata": {
        "id": "W183n7RsUWFL"
      }
    },
    {
      "cell_type": "code",
      "source": [
        "num1 = float(input(\"Enter the first number: \"))\n",
        "num2 = float(input(\"Enter the second number: \"))\n",
        "num3 = float(input(\"Enter the third number: \"))\n",
        "\n",
        "if num1 >= num2 and num1 >= num3:\n",
        "    greatest = num1\n",
        "elif num2 >= num1 and num2 >= num3:\n",
        "    greatest = num2\n",
        "else:\n",
        "    greatest = num3\n",
        "\n",
        "print(f\"The Greatest number is: {greatest}\")\n"
      ],
      "metadata": {
        "colab": {
          "base_uri": "https://localhost:8080/"
        },
        "id": "lJyUXmTIUg_w",
        "outputId": "ae451269-d363-4dff-ec66-03309b6ee57d"
      },
      "execution_count": 11,
      "outputs": [
        {
          "output_type": "stream",
          "name": "stdout",
          "text": [
            "Enter the first number: 67\n",
            "Enter the second number: 90\n",
            "Enter the third number: 87\n",
            "The Greatest number is: 90.0\n"
          ]
        }
      ]
    },
    {
      "cell_type": "markdown",
      "source": [
        "# Exercise 5\n",
        "##Find the factorial of a given number using loops(note the number is received from the user)\n"
      ],
      "metadata": {
        "id": "hzuECDcbVI-u"
      }
    },
    {
      "cell_type": "code",
      "source": [
        "num = int(input(\"Enter a number: \"))\n",
        "factorial = 1\n",
        "\n",
        "for i in range(1, num + 1):\n",
        "    factorial *= i\n",
        "\n",
        "print(f\"The factorial is: {factorial}\")\n"
      ],
      "metadata": {
        "colab": {
          "base_uri": "https://localhost:8080/"
        },
        "id": "wNf7HxRjUspF",
        "outputId": "9bad1a7e-e513-4e4c-a7e7-42179300218f"
      },
      "execution_count": 13,
      "outputs": [
        {
          "output_type": "stream",
          "name": "stdout",
          "text": [
            "Enter a number: 5\n",
            "The factorial is: 120\n"
          ]
        }
      ]
    },
    {
      "cell_type": "markdown",
      "source": [
        "# Exercise 6\n",
        "## Reverse a number using while loop\n"
      ],
      "metadata": {
        "id": "FAY54tx-WLhq"
      }
    },
    {
      "cell_type": "code",
      "source": [
        "num = int(input(\"Enter a number: \"))\n",
        "reversed_num = 0\n",
        "while num > 0:\n",
        "    digit = num % 10\n",
        "    reversed_num = reversed_num * 10 + digit\n",
        "    num = num // 10\n",
        "print(f\"The reversed number is: {reversed_num}\")\n"
      ],
      "metadata": {
        "colab": {
          "base_uri": "https://localhost:8080/"
        },
        "id": "cJoS8FmrVxq1",
        "outputId": "bc27806a-450a-4284-a27b-e81007aef784"
      },
      "execution_count": 14,
      "outputs": [
        {
          "output_type": "stream",
          "name": "stdout",
          "text": [
            "Enter a number: 67675456\n",
            "The reversed number is: 65457676\n"
          ]
        }
      ]
    },
    {
      "cell_type": "markdown",
      "source": [
        "# Exercise 7\n",
        "## Finding the multiples of a number using loop\n"
      ],
      "metadata": {
        "id": "2w9QGcILdyk7"
      }
    },
    {
      "cell_type": "code",
      "source": [
        "num = int(input(\"Enter a number: \"))\n",
        "limit = int(input(\"Enter the range limit: \"))\n",
        "i = 1\n",
        "while i <= limit:\n",
        "    print(num * i)\n",
        "    i += 1\n"
      ],
      "metadata": {
        "colab": {
          "base_uri": "https://localhost:8080/"
        },
        "id": "R74WMdpQdo66",
        "outputId": "10971d8d-4fe5-484e-8d52-4c05df093f43"
      },
      "execution_count": 17,
      "outputs": [
        {
          "output_type": "stream",
          "name": "stdout",
          "text": [
            "Enter a number: 6\n",
            "Enter the range limit: 3\n",
            "6\n",
            "12\n",
            "18\n"
          ]
        }
      ]
    },
    {
      "cell_type": "markdown",
      "source": [
        "# Exercise 8\n",
        "## Write a program to print the inputted value as it is and break the loop if the value is 'done'. Example run of the program :hello there hello there :finished finished :done Done\n"
      ],
      "metadata": {
        "id": "ZqoRgLQneqbe"
      }
    },
    {
      "cell_type": "code",
      "source": [
        "while True:\n",
        "    user_input = input()\n",
        "\n",
        "    print(user_input)\n",
        "    if user_input == 'done':\n",
        "        break\n",
        "\n"
      ],
      "metadata": {
        "colab": {
          "base_uri": "https://localhost:8080/"
        },
        "id": "rzTVCoVMeLwE",
        "outputId": "a78bc506-048e-4a89-d617-af6e140252b2"
      },
      "execution_count": 19,
      "outputs": [
        {
          "output_type": "stream",
          "name": "stdout",
          "text": [
            "user\n",
            "user\n",
            "arjun\n",
            "arjun\n",
            "athira\n",
            "athira\n",
            "done\n",
            "done\n"
          ]
        }
      ]
    },
    {
      "cell_type": "markdown",
      "source": [
        "# Exercise 9\n",
        "## Write a program that prints the numbers from 1 to 10. But for multiples of three print \"Fizz\" instead of the number and for the multiple of five print \"Buzz\". For numbers which are multiples of both three and five print \"FizzBuzz\"\n"
      ],
      "metadata": {
        "id": "rj66o6G8fVLK"
      }
    },
    {
      "cell_type": "code",
      "source": [
        "for num in range(1, 11):\n",
        "    if num % 3 == 0 and num % 5 == 0:\n",
        "        print(\"FizzBuzz\")\n",
        "    elif num % 3 == 0:\n",
        "        print(\"Fizz\")\n",
        "    elif num % 5 == 0:\n",
        "        print(\"Buzz\")\n",
        "    else:\n",
        "        print(num)\n",
        ""
      ],
      "metadata": {
        "colab": {
          "base_uri": "https://localhost:8080/"
        },
        "id": "hBhrpex1fJFH",
        "outputId": "a9e34504-b8fd-4f4e-e60f-2727fdee167d"
      },
      "execution_count": 24,
      "outputs": [
        {
          "output_type": "stream",
          "name": "stdout",
          "text": [
            "1\n",
            "2\n",
            "Fizz\n",
            "4\n",
            "Buzz\n",
            "Fizz\n",
            "7\n",
            "8\n",
            "Fizz\n",
            "Buzz\n"
          ]
        }
      ]
    },
    {
      "cell_type": "markdown",
      "source": [
        "# Exercise 10\n",
        "##Write a program to print the following pattern:\n",
        "##5 4 3 2 1\n",
        "##4 3 2 1\n",
        "##3 2 1\n",
        "##2 1\n",
        "##1\n"
      ],
      "metadata": {
        "id": "VmIT0pPSf946"
      }
    },
    {
      "cell_type": "code",
      "source": [
        "for i in range(5, 0, -1):\n",
        "    for j in range(i, 0, -1):\n",
        "        print(j, end=\" \")\n",
        "    print()"
      ],
      "metadata": {
        "colab": {
          "base_uri": "https://localhost:8080/"
        },
        "id": "kF1hAbt_fpDj",
        "outputId": "00396eea-d67f-4538-ca1a-e31f0a2bb228"
      },
      "execution_count": 25,
      "outputs": [
        {
          "output_type": "stream",
          "name": "stdout",
          "text": [
            "5 4 3 2 1 \n",
            "4 3 2 1 \n",
            "3 2 1 \n",
            "2 1 \n",
            "1 \n"
          ]
        }
      ]
    },
    {
      "cell_type": "code",
      "source": [],
      "metadata": {
        "id": "aUnVkAhHgfDZ"
      },
      "execution_count": null,
      "outputs": []
    }
  ]
}