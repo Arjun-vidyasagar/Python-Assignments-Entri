{
 "cells": [
  {
   "cell_type": "markdown",
   "id": "777d8a7a-4da7-4bb6-bfa2-04d4ba9fc081",
   "metadata": {},
   "source": [
    "## Topic :List"
   ]
  },
  {
   "cell_type": "markdown",
   "id": "75c21b42-4981-4fde-b194-e5232a45de3a",
   "metadata": {},
   "source": [
    "# Q1. Create a list of 5 random numbers and print the list."
   ]
  },
  {
   "cell_type": "code",
   "execution_count": 3,
   "id": "1c0caab9-e25f-45f8-8bc1-b34ba12d050f",
   "metadata": {},
   "outputs": [
    {
     "name": "stdout",
     "output_type": "stream",
     "text": [
      "Original list is: [4, 8, 15, 16, 23]\n"
     ]
    }
   ],
   "source": [
    "numbers = [4, 8, 15, 16, 23]  \n",
    "print(\"Original list is:\", numbers)"
   ]
  },
  {
   "cell_type": "markdown",
   "id": "c66e3b25-c51e-428d-9235-f0cac785e602",
   "metadata": {},
   "source": [
    "# Q2. Insert 3 new values to the list and print the updated list."
   ]
  },
  {
   "cell_type": "code",
   "execution_count": 6,
   "id": "ebf4adf2-e69f-4aae-a2c5-b717be51fcd1",
   "metadata": {},
   "outputs": [],
   "source": [
    "numbers.append(16)\n",
    "numbers.append(28)\n",
    "numbers.append(90)"
   ]
  },
  {
   "cell_type": "code",
   "execution_count": 8,
   "id": "3ab440ae-0131-4673-87da-98179b5851ec",
   "metadata": {},
   "outputs": [
    {
     "name": "stdout",
     "output_type": "stream",
     "text": [
      "The updated list is [4, 8, 15, 16, 23, 16, 28, 90]\n"
     ]
    }
   ],
   "source": [
    "print(\"The updated list is\", numbers)"
   ]
  },
  {
   "cell_type": "markdown",
   "id": "fda4c118-d4b4-4bbe-b794-523ea6807df0",
   "metadata": {},
   "source": [
    "# Q3. Try to use a for loop to print each element in the list."
   ]
  },
  {
   "cell_type": "code",
   "execution_count": 11,
   "id": "6b834007-8499-48c5-94bd-d749118c1678",
   "metadata": {},
   "outputs": [
    {
     "name": "stdout",
     "output_type": "stream",
     "text": [
      "One of the elements of the list is 4\n",
      "One of the elements of the list is 8\n",
      "One of the elements of the list is 15\n",
      "One of the elements of the list is 16\n",
      "One of the elements of the list is 23\n",
      "One of the elements of the list is 16\n",
      "One of the elements of the list is 28\n",
      "One of the elements of the list is 90\n"
     ]
    }
   ],
   "source": [
    "for i in numbers:\n",
    "    print(\"One of the elements of the list is\",i)"
   ]
  },
  {
   "cell_type": "markdown",
   "id": "3e9cd68b-d80d-49c3-ab82-2bb1e790a3e7",
   "metadata": {},
   "source": [
    "## Topic: Dictionary"
   ]
  },
  {
   "cell_type": "markdown",
   "id": "6862c8aa-2401-46ad-bcd9-53017d0dcf8a",
   "metadata": {},
   "source": [
    "# Q1. Create a dictionary with keys 'name', 'age', and 'address' and values 'John', 25, and 'New York' respectively."
   ]
  },
  {
   "cell_type": "code",
   "execution_count": 18,
   "id": "de78f7cb-6b3a-4f02-82b0-65f1d3290078",
   "metadata": {},
   "outputs": [
    {
     "data": {
      "text/plain": [
       "{'Name': 'John', 'Age': 25, 'Address': 'NewYork'}"
      ]
     },
     "execution_count": 18,
     "metadata": {},
     "output_type": "execute_result"
    }
   ],
   "source": [
    "person = {\"Name\" : \"John\",\n",
    "        \"Age\" : 25,\n",
    "         \"Address\" : \"NewYork\"}\n",
    "person"
   ]
  },
  {
   "cell_type": "markdown",
   "id": "b4c65418-8f02-4d37-96b3-a89cc7bd41ad",
   "metadata": {},
   "source": [
    "# Q2. Add a new key-value pair to the dictionary created in Q1 with key 'phone' and value '1234567890'."
   ]
  },
  {
   "cell_type": "code",
   "execution_count": 32,
   "id": "009a3efe-ee02-49f2-a25b-9563e6e81049",
   "metadata": {},
   "outputs": [],
   "source": [
    "person['Phone'] =1234567890"
   ]
  },
  {
   "cell_type": "code",
   "execution_count": 34,
   "id": "86dccc17-944e-4bc7-b185-649efb636c25",
   "metadata": {},
   "outputs": [
    {
     "data": {
      "text/plain": [
       "{'Name': 'John', 'Age': 25, 'Address': 'NewYork', 'Phone': 1234567890}"
      ]
     },
     "execution_count": 34,
     "metadata": {},
     "output_type": "execute_result"
    }
   ],
   "source": [
    "person"
   ]
  },
  {
   "cell_type": "markdown",
   "id": "9e0679ce-d3be-40b9-88f7-3a350e0048a2",
   "metadata": {},
   "source": [
    "## Topic: Set"
   ]
  },
  {
   "cell_type": "markdown",
   "id": "073cc3c7-4b64-45f2-aea2-c91d685ec378",
   "metadata": {},
   "source": [
    "# Q1.Create a set with values 1, 2, 3, 4, and 5."
   ]
  },
  {
   "cell_type": "code",
   "execution_count": 65,
   "id": "f54f4e87-33cb-47a4-90f7-54eb6adf6901",
   "metadata": {},
   "outputs": [
    {
     "data": {
      "text/plain": [
       "{1, 2, 3, 4, 5}"
      ]
     },
     "execution_count": 65,
     "metadata": {},
     "output_type": "execute_result"
    }
   ],
   "source": [
    "num_set = {1,2,3,4,5}\n",
    "num_set"
   ]
  },
  {
   "cell_type": "code",
   "execution_count": 67,
   "id": "97de1fce-f36b-4ebc-945c-b7f8aef8785a",
   "metadata": {},
   "outputs": [
    {
     "data": {
      "text/plain": [
       "{1, 2, 3, 4, 5}"
      ]
     },
     "execution_count": 67,
     "metadata": {},
     "output_type": "execute_result"
    }
   ],
   "source": [
    "num_set"
   ]
  },
  {
   "cell_type": "markdown",
   "id": "50bb81c5-07c9-431b-90ba-836cc6bc78a7",
   "metadata": {},
   "source": [
    "# Q2. Add the value 6 to the set created in Q1."
   ]
  },
  {
   "cell_type": "code",
   "execution_count": 73,
   "id": "c39c7bd1-8beb-409b-8e72-ebb10418ec61",
   "metadata": {},
   "outputs": [
    {
     "data": {
      "text/plain": [
       "{1, 2, 3, 4, 5, 6}"
      ]
     },
     "execution_count": 73,
     "metadata": {},
     "output_type": "execute_result"
    }
   ],
   "source": [
    "num_set.add(6)\n",
    "num_set"
   ]
  },
  {
   "cell_type": "markdown",
   "id": "d9ca314c-26b6-4402-b05b-127f1516e5e6",
   "metadata": {},
   "source": [
    "# Q3. Remove the value 3 from the set created in Q1."
   ]
  },
  {
   "cell_type": "code",
   "execution_count": 75,
   "id": "219b967f-4db3-4828-95c4-42a7f92116c2",
   "metadata": {},
   "outputs": [
    {
     "data": {
      "text/plain": [
       "{1, 2, 4, 5, 6}"
      ]
     },
     "execution_count": 75,
     "metadata": {},
     "output_type": "execute_result"
    }
   ],
   "source": [
    "num_set.remove(3)\n",
    "num_set"
   ]
  },
  {
   "cell_type": "markdown",
   "id": "47a76b8c-6f84-484e-aeba-c5f0bfb33f94",
   "metadata": {},
   "source": [
    "## Topic:Tuple"
   ]
  },
  {
   "cell_type": "markdown",
   "id": "9a59c9c7-ed6a-43c0-ba0c-b627d95a4377",
   "metadata": {},
   "source": [
    "# Q1. Create a tuple with values 1, 2, 3, and 4\n"
   ]
  },
  {
   "cell_type": "code",
   "execution_count": 79,
   "id": "8d61d002-682b-4738-a073-810f9a83ab51",
   "metadata": {},
   "outputs": [
    {
     "data": {
      "text/plain": [
       "(1, 2, 3, 4)"
      ]
     },
     "execution_count": 79,
     "metadata": {},
     "output_type": "execute_result"
    }
   ],
   "source": [
    "num_tuple = (1,2,3,4)\n",
    "num_tuple"
   ]
  },
  {
   "cell_type": "markdown",
   "id": "853114a1-8f1a-46ca-affd-e2cbd1beffd6",
   "metadata": {},
   "source": [
    "# Q2. Print the length of the tuple created in Q1.\n"
   ]
  },
  {
   "cell_type": "code",
   "execution_count": 84,
   "id": "b0a499d9-f307-4a67-b263-2fb2d7282e86",
   "metadata": {},
   "outputs": [
    {
     "name": "stdout",
     "output_type": "stream",
     "text": [
      "The size of the tuple is 4\n"
     ]
    }
   ],
   "source": [
    "print(\"The size of the tuple is\", len(num_tuple))"
   ]
  }
 ],
 "metadata": {
  "kernelspec": {
   "display_name": "Python [conda env:base] *",
   "language": "python",
   "name": "conda-base-py"
  },
  "language_info": {
   "codemirror_mode": {
    "name": "ipython",
    "version": 3
   },
   "file_extension": ".py",
   "mimetype": "text/x-python",
   "name": "python",
   "nbconvert_exporter": "python",
   "pygments_lexer": "ipython3",
   "version": "3.12.7"
  }
 },
 "nbformat": 4,
 "nbformat_minor": 5
}
