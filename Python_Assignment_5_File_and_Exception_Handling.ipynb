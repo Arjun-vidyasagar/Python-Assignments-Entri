{
 "cells": [
  {
   "cell_type": "code",
   "execution_count": 12,
   "id": "c9814ae3-8792-4061-9752-53ca44056f36",
   "metadata": {},
   "outputs": [
    {
     "name": "stdout",
     "output_type": "stream",
     "text": [
      "Content of this opened file is:\n",
      "Hello, world! Python is great. This is my assignment\n"
     ]
    }
   ],
   "source": [
    "# Exercise 1: Write a Python program to read a file and display its contents\n",
    "\n",
    "filename = 'test.txt'\n",
    "try:\n",
    "    with open(filename, 'r') as file:\n",
    "        content = file.read()\n",
    "        print('Content of this opened file is:')\n",
    "        print(content)\n",
    "except FileNotFoundError:\n",
    "    print(\"Error: File not found.\")\n"
   ]
  },
  {
   "cell_type": "code",
   "execution_count": 22,
   "id": "36cb52a2-0b4a-48bc-b825-419b0d0a7367",
   "metadata": {},
   "outputs": [
    {
     "name": "stdout",
     "output_type": "stream",
     "text": [
      "File copied successfully.\n"
     ]
    }
   ],
   "source": [
    "# Exercise 2: Write a Python program to copy the contents of one file to another file\n",
    "source = 'source.txt'\n",
    "destination = 'destination.txt'\n",
    "try:\n",
    "    with open(source, 'r') as src:\n",
    "        content = src.read()\n",
    "    with open(destination, 'w') as dest:\n",
    "        dest.write(content)\n",
    "    print(\"File copied successfully.\")\n",
    "except FileNotFoundError:\n",
    "    print(\"Error: Source file not found.\")"
   ]
  },
  {
   "cell_type": "code",
   "execution_count": 24,
   "id": "46f5d731-45e8-4c5a-a27f-d7ddba1be223",
   "metadata": {},
   "outputs": [
    {
     "name": "stdout",
     "output_type": "stream",
     "text": [
      "Total number of words: 34\n"
     ]
    }
   ],
   "source": [
    "# Exercise 3: Write a Python program to read the content of a file and count the total number of words in that file.\n",
    "filename = 'word_count.txt'\n",
    "try:\n",
    "    with open(filename, 'r') as file:\n",
    "        content = file.read()\n",
    "        words = content.split()\n",
    "        print(f\"Total number of words: {len(words)}\")\n",
    "except FileNotFoundError:\n",
    "    print(\"Error: File not found.\")\n"
   ]
  },
  {
   "cell_type": "code",
   "execution_count": 30,
   "id": "b74d0b6a-4a06-417c-8d3e-da06e9af037a",
   "metadata": {},
   "outputs": [
    {
     "name": "stdin",
     "output_type": "stream",
     "text": [
      "Enter an integer:  23\n"
     ]
    },
    {
     "name": "stdout",
     "output_type": "stream",
     "text": [
      "You entered: 23\n"
     ]
    }
   ],
   "source": [
    "# Exercise 4: Write a Python program that prompts the user to input a string and converts it to an integer. Use try-except blocks to handle any exceptions that might occur\n",
    "try:\n",
    "    user_input = input(\"Enter an integer: \")\n",
    "    num = int(user_input)\n",
    "    print(f\"You entered: {num}\")\n",
    "except ValueError:\n",
    "    print(\"Error: Invalid input. Please enter a valid integer.\")"
   ]
  },
  {
   "cell_type": "code",
   "execution_count": 34,
   "id": "d69b7c12-8a6b-45df-9f4a-13f157c35ef2",
   "metadata": {},
   "outputs": [
    {
     "name": "stdin",
     "output_type": "stream",
     "text": [
      "Enter a list of integers separated by spaces:  12 22 34 13 44 132 4\n"
     ]
    },
    {
     "name": "stdout",
     "output_type": "stream",
     "text": [
      "All numbers are positive.\n"
     ]
    }
   ],
   "source": [
    "# Exercise 5: Write a Python program that prompts the user to input a list of integers and raises an exception if any of the integers in the list are negative.\n",
    "try:\n",
    "    user_input = input(\"Enter a list of integers separated by spaces: \")\n",
    "    numbers = list(map(int, user_input.split()))\n",
    "    if any(n < 0 for n in numbers):\n",
    "        raise ValueError(\"Negative numbers are not allowed.\")\n",
    "    print(\"All numbers are positive.\")\n",
    "except ValueError as e:\n",
    "    print(f\"Error: {e}\")"
   ]
  },
  {
   "cell_type": "code",
   "execution_count": 36,
   "id": "1c1ad1cd-a6ea-4211-8e68-f1d17783a3e8",
   "metadata": {},
   "outputs": [
    {
     "name": "stdin",
     "output_type": "stream",
     "text": [
      "Enter a list of integers separated by spaces:  12 454 32 553 2123\n"
     ]
    },
    {
     "name": "stdout",
     "output_type": "stream",
     "text": [
      "The average is: 634.8\n",
      "Program execution completed.\n"
     ]
    }
   ],
   "source": [
    "# Exercise 6: Write a Python program that prompts the user to input a list of integers and computes the average of those integers. Use try-except blocks to handle any exceptions that might occur.use the finally clause to print a message indicating that the program has finished running.\n",
    "try:\n",
    "    user_input = input(\"Enter a list of integers separated by spaces: \")\n",
    "    numbers = list(map(int, user_input.split()))\n",
    "    average = sum(numbers) / len(numbers)\n",
    "    print(f\"The average is: {average}\")\n",
    "except ZeroDivisionError:\n",
    "    print(\"Error: Cannot compute average of an empty list.\")\n",
    "except ValueError:\n",
    "    print(\"Error: Invalid input. Please enter only integers.\")\n",
    "finally:\n",
    "    print(\"Program execution completed.\")"
   ]
  },
  {
   "cell_type": "code",
   "execution_count": 40,
   "id": "0da14049-e535-4b38-a7e9-16e6fd8b07db",
   "metadata": {},
   "outputs": [
    {
     "name": "stdin",
     "output_type": "stream",
     "text": [
      "Enter filename:  Demo 1\n",
      "Enter content to write to the file:  Hello Arjun, how are you? I am fine, thanks\n"
     ]
    },
    {
     "name": "stdout",
     "output_type": "stream",
     "text": [
      "Success: File written successfully.\n"
     ]
    }
   ],
   "source": [
    "# Exercise 7: Write a Python program that prompts the user to input a filename and writes a string to that file. Use try-except blocks to handle any exceptions that might occur and print a welcome message if there is no exception occurred.\n",
    "\n",
    "filename = input(\"Enter filename: \")\n",
    "content = input(\"Enter content to write to the file: \")\n",
    "try:\n",
    "    with open(filename, 'w') as file:\n",
    "        file.write(content)\n",
    "    print(\"Success: File written successfully.\")\n",
    "except Exception as e:\n",
    "    print(f\"Error: {e}\")"
   ]
  },
  {
   "cell_type": "code",
   "execution_count": null,
   "id": "2d52dcfc-f529-4ae2-bc31-71881d419682",
   "metadata": {},
   "outputs": [],
   "source": []
  }
 ],
 "metadata": {
  "kernelspec": {
   "display_name": "Python [conda env:base] *",
   "language": "python",
   "name": "conda-base-py"
  },
  "language_info": {
   "codemirror_mode": {
    "name": "ipython",
    "version": 3
   },
   "file_extension": ".py",
   "mimetype": "text/x-python",
   "name": "python",
   "nbconvert_exporter": "python",
   "pygments_lexer": "ipython3",
   "version": "3.12.7"
  }
 },
 "nbformat": 4,
 "nbformat_minor": 5
}
